{
 "cells": [
  {
   "cell_type": "code",
   "execution_count": 1,
   "metadata": {},
   "outputs": [],
   "source": [
    "from satellite import Satellite, Ground\n",
    "import numpy as np"
   ]
  },
  {
   "cell_type": "code",
   "execution_count": 5,
   "metadata": {},
   "outputs": [],
   "source": [
    "finch = Satellite()\n",
    "station = Ground()"
   ]
  },
  {
   "cell_type": "code",
   "execution_count": 2,
   "metadata": {},
   "outputs": [],
   "source": [
    "def vec_diff(satellite: Satellite, ground: Ground):\n",
    "    return satellite.position - ground.position\n",
    "\n",
    "def get_magnitude(vec):\n",
    "    return np.linalg.norm(vec)\n",
    "\n",
    "def get_angle(vec1, vec2):\n",
    "    dot = np.dot(np.transpose(vec1), vec2)\n",
    "    mag1 = get_magnitude(vec1)\n",
    "    mag2 = get_magnitude(vec2)\n",
    "    return np.arccos(dot/(mag1 * mag2))\n"
   ]
  },
  {
   "cell_type": "code",
   "execution_count": 7,
   "metadata": {},
   "outputs": [],
   "source": [
    "\n",
    "f = open('test.csv', 'w')\n",
    "f.write('Time'+','+\"Angle\"+','+\"Sat_x,\"+\"Sat_y,\"+\"Station_x,\"+\"Station_y\"+\"\\n\")\n",
    "# apparently no angle is below pi/2? How is this possible \n",
    "\n",
    "for i in range(30):\n",
    "    finch.rotate(2*np.pi/5708)\n",
    "    station.rotate(60*82.5/(6378*(10**3)))\n",
    "    angle = get_angle(finch.position, vec_diff(finch, station))\n",
    "    if angle > np.pi/2:\n",
    "        print(angle)\n",
    "    if angle <= np.pi/2:\n",
    "        f.write(str(i)+','+ str(angle) + ',')\n",
    "        f.write(str(finch.position[0]) + ',' + str(finch.position[1]) + ',')\n",
    "        f.write(str(station.position[0]) + ',' + str( station.position[1] ) + '\\n')\n",
    "\n",
    "f.close()"
   ]
  },
  {
   "cell_type": "code",
   "execution_count": null,
   "metadata": {},
   "outputs": [],
   "source": [
    "def rotation_matrix(phi):\n",
    "    return np.array([[np.cos(phi), -np.sin(phi)],[np.sin(phi), np.cos(phi)]])\n",
    "\n",
    "sat = np.array([6878, 0])\n",
    "ground = np.array([6378, 0])\n",
    "d_ts = 2*np.pi/5708\n",
    "d_tg = 60*82.5/(6378*(10**3))\n",
    "A_s = rotation_matrix(d_ts)\n",
    "A_g = rotation_matrix(d_tg)\n",
    "for i in 100:\n",
    "    sat = A_s * sat\n",
    "    ground = A_g * sat    "
   ]
  }
 ],
 "metadata": {
  "interpreter": {
   "hash": "f07f4e274d169426a1c0b2745bef4ac5a8c2021a68a06c97898107884b5bd4c4"
  },
  "kernelspec": {
   "display_name": "Python 3.9.5 64-bit",
   "name": "python3"
  },
  "language_info": {
   "codemirror_mode": {
    "name": "ipython",
    "version": 3
   },
   "file_extension": ".py",
   "mimetype": "text/x-python",
   "name": "python",
   "nbconvert_exporter": "python",
   "pygments_lexer": "ipython3",
   "version": "3.9.5"
  },
  "orig_nbformat": 4
 },
 "nbformat": 4,
 "nbformat_minor": 2
}
